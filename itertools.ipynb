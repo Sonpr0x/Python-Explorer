{
 "cells": [
  {
   "cell_type": "markdown",
   "metadata": {},
   "source": [
    "// 01.03.2024   \n",
    "// Giro notes\n",
    "\n",
    "# Python -> Itertools module\n",
    "A functional tools for creating and using iterators.\n",
    "\n",
    "### -> Infinite iterators:\n",
    "- **count(start=0, step=1)** --> start, start+step, start+2*step, ...\n",
    "- **cycle(p)** --> p0, p1, ... plast, p0, p1, ...\n",
    "- **repeat(elem [,n])** --> repeat value n times\n",
    "\n",
    "### -> Iterators terminating on the shortest input sequence:\n",
    "- **accumulate(p[, func])** --> p0, p0+p1, p0+p1+p2 --> example: $\\sum_{i=0}^n i$\n",
    "- **chain(p, q, ...)** --> p0, p1, ... plast, q0, q1, -->\n",
    "- **chain.from_iterable([p, q, ...])** --> p0, p1, ... plast, q0, q1, ...\n",
    "- **compress(data, selectors)** --> (d[0] if s[0]), (d[1] if s[1]), ...\n",
    "- **dropwhile(pred, seq)** --> seq[n], seq[n+1], starting when pred fails\n",
    "- **groupby(iterable[, keyfunc])** --> sub-iterators grouped by value of keyfunc(v)\n",
    "- **filterfalse(pred, seq**) --> elements of seq where pred(elem) is False\n",
    "- **islice(seq, [start,] stop [, step])** --> elements from seq[start:stop:step]\n",
    "- **pairwise(s)** --> (s[0],s[1]), (s[1],s[2]), (s[2], s[3]), ...\n",
    "- **starmap(fun, seq**) --> fun(*seq[0]), fun(*seq[1]), ...\n",
    "- **tee(it, n=2)** --> (it1, it2 , ... itn) splits one iterator into n\n",
    "- **takewhile(pred, seq)** --> seq[0], seq[1], until pred fails\n",
    "- **zip_longest(p, q, ...)** --> (p[0], q[0]), (p[1], q[1]), ...\n",
    "\n",
    "### -> Combinatoric generators:\n",
    "- **product(p, q, ... [repeat=1])** --> cartesian product\n",
    "- **permutations(p[, r])**\n",
    "- **combinations(p, r)**\n",
    "- **combinations_with_replacement(p, r)**\n"
   ]
  },
  {
   "cell_type": "markdown",
   "metadata": {},
   "source": [
    "# Main"
   ]
  },
  {
   "cell_type": "markdown",
   "metadata": {},
   "source": [
    "`Count` make a jump between values"
   ]
  },
  {
   "cell_type": "code",
   "execution_count": 2,
   "metadata": {},
   "outputs": [],
   "source": [
    "from itertools import *"
   ]
  },
  {
   "cell_type": "code",
   "execution_count": 2,
   "metadata": {},
   "outputs": [
    {
     "name": "stdout",
     "output_type": "stream",
     "text": [
      "1\n",
      "4\n",
      "7\n",
      "10\n"
     ]
    }
   ],
   "source": [
    "for number in count(start=1, step=3):\n",
    "    if number > 10:\n",
    "        break\n",
    "    print(number)"
   ]
  },
  {
   "cell_type": "markdown",
   "metadata": {},
   "source": [
    "`Cycle` move through value by value and repeat"
   ]
  },
  {
   "cell_type": "code",
   "execution_count": 12,
   "metadata": {},
   "outputs": [
    {
     "name": "stdout",
     "output_type": "stream",
     "text": [
      "A B C D . A B C D . A B C D . A B C D . A "
     ]
    }
   ],
   "source": [
    "count = 0\n",
    " \n",
    "# for in loop\n",
    "for i in cycle('ABCD.'):\n",
    "    if count > 20:\n",
    "        break\n",
    "    else:\n",
    "        print(i, end=\" \")\n",
    "        count += 1"
   ]
  },
  {
   "cell_type": "markdown",
   "metadata": {},
   "source": [
    "`Repeat`"
   ]
  },
  {
   "cell_type": "code",
   "execution_count": 6,
   "metadata": {},
   "outputs": [
    {
     "name": "stdout",
     "output_type": "stream",
     "text": [
      "hehehehehe\n"
     ]
    }
   ],
   "source": [
    "print(''.join(list(repeat(\"he\",5))))"
   ]
  },
  {
   "cell_type": "markdown",
   "metadata": {},
   "source": [
    "`Combination`"
   ]
  },
  {
   "cell_type": "markdown",
   "metadata": {},
   "source": [
    "`Accumulate` math operator of i per loop   \n",
    "   \n",
    "example:     $\\sum_{i=0}^n i$"
   ]
  },
  {
   "cell_type": "code",
   "execution_count": 7,
   "metadata": {},
   "outputs": [
    {
     "name": "stdout",
     "output_type": "stream",
     "text": [
      "[1, 5, 10, 15]\n"
     ]
    }
   ],
   "source": [
    "// default was addition\n",
    "\n",
    "print(list(accumulate([1,4,5,5])))"
   ]
  },
  {
   "cell_type": "markdown",
   "metadata": {},
   "source": [
    "output: [0] = `1`.   \n",
    "output: [1] = 4 + [0] = 4 + 1 = `5`.   \n",
    "output: [2] = 5 + [1] + [0] = 5 + 4 + 1 = `10`.   \n",
    "output: [3] = 5 + [2] + [1] + [0] = 5 + 5 + 4 + 1 = `15`.   "
   ]
  },
  {
   "cell_type": "markdown",
   "metadata": {},
   "source": [
    "`Chain` print list by list"
   ]
  },
  {
   "cell_type": "code",
   "execution_count": 9,
   "metadata": {},
   "outputs": [
    {
     "name": "stdout",
     "output_type": "stream",
     "text": [
      "chain = [1, 2, 3, 4, 5, 6]\n",
      "chain.from_iterable = [1, 2, 3, 4, 5, 6]\n"
     ]
    }
   ],
   "source": [
    "a = [1,2,3]\n",
    "b = [4,5,6]\n",
    "\n",
    "print(\"chain =\",list(chain(a,b)))\n",
    "\n",
    "c = [a,b]\n",
    "print(\"chain.from_iterable =\", list(chain.from_iterable(c)))"
   ]
  },
  {
   "cell_type": "markdown",
   "metadata": {},
   "source": []
  }
 ],
 "metadata": {
  "kernelspec": {
   "display_name": "Python 3",
   "language": "python",
   "name": "python3"
  },
  "language_info": {
   "codemirror_mode": {
    "name": "ipython",
    "version": 3
   },
   "file_extension": ".py",
   "mimetype": "text/x-python",
   "name": "python",
   "nbconvert_exporter": "python",
   "pygments_lexer": "ipython3",
   "version": "3.11.3"
  }
 },
 "nbformat": 4,
 "nbformat_minor": 2
}
